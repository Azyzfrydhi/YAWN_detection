{
 "cells": [
  {
   "cell_type": "code",
   "execution_count": 11,
   "id": "4d5a3510",
   "metadata": {},
   "outputs": [],
   "source": [
    "import cv2\n",
    "import os\n",
    "import numpy as np\n",
    "import dlib\n",
    "from imutils import face_utils\n",
    "from sklearn.model_selection import train_test_split\n",
    "from sklearn.metrics import accuracy_score\n",
    "import csv\n"
   ]
  },
  {
   "cell_type": "markdown",
   "id": "7f872d56",
   "metadata": {},
   "source": [
    "\n",
    "# créer deux listes contenant des vidéos de baillement et des vidéos normales.\n"
   ]
  },
  {
   "cell_type": "code",
   "execution_count": 16,
   "id": "d92ad0a6",
   "metadata": {},
   "outputs": [],
   "source": [
    "\n",
    "\n",
    "# Path to folders containing yawning and normal videos\n",
    "yawning_folder = 'C:\\\\Users\\\\MSI\\OneDrive\\\\Bureau\\\\newYAWDD\\\\VID_Yawning'\n",
    "normal_folder = 'C:\\\\Users\\\\MSI\\\\OneDrive\\\\Bureau\\\\newYAWDD\\\\VID_Normale'\n",
    "\n",
    "# Lists to store paths of yawning and normal videos\n",
    "yawning_videos = []\n",
    "normal_videos = []\n",
    "\n",
    "# Read video files in the yawning folder\n",
    "for file in os.listdir(yawning_folder):\n",
    "    if \"Yawning\" in file:  # Check if \"Yawning\" is present in the filename\n",
    "        video_path = os.path.join(yawning_folder, file)\n",
    "        yawning_videos.append(video_path)\n",
    "\n",
    "# Read video files in the normal folder\n",
    "for file in os.listdir(normal_folder):\n",
    "    if \"Normal\" in file:  # Check if \"Normal\" is present in the filename\n",
    "        video_path = os.path.join(normal_folder, file)\n",
    "        normal_videos.append(video_path)\n",
    "\n"
   ]
  },
  {
   "cell_type": "markdown",
   "id": "d961dc23",
   "metadata": {},
   "source": [
    "# script Python pour convertir les vidéos en ensembles de frames et les stocker dans le dossier extracted_frames11"
   ]
  },
  {
   "cell_type": "code",
   "execution_count": 13,
   "id": "c86b0567",
   "metadata": {},
   "outputs": [],
   "source": [
    "\n",
    "\n",
    "# Function to extract frames from a video and save as images\n",
    "def extract_frames(video_path, output_folder):\n",
    "    # Create output folder if it doesn't exist\n",
    "    os.makedirs(output_folder, exist_ok=True)\n",
    "\n",
    "    # Open the video file\n",
    "    cap = cv2.VideoCapture(video_path)\n",
    "    frame_count = 0\n",
    "    # Read until video is completed\n",
    "    while True:\n",
    "        ret, frame = cap.read()\n",
    "        if not ret:\n",
    "            break\n",
    "        # Save frame as image in the output folder\n",
    "        frame_output_path = os.path.join(output_folder, f\"frame_{frame_count}.jpg\")\n",
    "        cv2.imwrite(frame_output_path, frame)\n",
    "        frame_count += 1\n",
    "    # Release the video capture object\n",
    "    cap.release()\n",
    "\n",
    "# Path to the folder where the extracted frames will be saved\n",
    "output_frames_folder = 'C:\\\\Users\\\\MSI\\\\OneDrive\\\\Bureau\\\\newYAWDD\\\\extracted_frames11'\n",
    "\n",
    "# Process yawning videos\n",
    "for video_path in yawning_videos:\n",
    "    video_name = os.path.splitext(os.path.basename(video_path))[0]\n",
    "    output_folder = os.path.join(output_frames_folder, f\"{video_name}_frames\")\n",
    "    extract_frames(video_path, output_folder)\n",
    "\n",
    "# Process normal videos\n",
    "for video_path in normal_videos:\n",
    "    video_name = os.path.splitext(os.path.basename(video_path))[0]\n",
    "    output_folder = os.path.join(output_frames_folder, f\"{video_name}_frames\")\n",
    "    extract_frames(video_path, output_folder)\n"
   ]
  },
  {
   "cell_type": "markdown",
   "id": "2f84bc05",
   "metadata": {},
   "source": [
    "# Script pour détecter les images représentant un bâillement et les placer dans un dossier spécifique, et les images normales dans un autre dossier. La détection sera effectuée à l'aide de la bibliothèque Delib.\"\n",
    "\n",
    "En bref, Delib est une bibliothèque qui fournit des fonctionnalités de détection d'objets et d'analyse d'images, souvent utilisée pour des tâches telles que la reconnaissance d'objets, la détection de visages, ou dans ce cas, la détection de bâillements dans des "
   ]
  },
  {
   "cell_type": "code",
   "execution_count": 14,
   "id": "8e352bca",
   "metadata": {},
   "outputs": [
    {
     "name": "stdout",
     "output_type": "stream",
     "text": [
      "Detection process is completed.\n"
     ]
    }
   ],
   "source": [
    "\n",
    "\n",
    "\n",
    "# Initialize dlib's face detector and shape predictor\n",
    "p = \"shape_predictor_68_face_landmarks.dat\"\n",
    "detector = dlib.get_frontal_face_detector()\n",
    "predictor = dlib.shape_predictor(p)\n",
    "\n",
    "# Path to the root folder containing the subfolders with extracted frames\n",
    "root_folder_path = r'C:\\Users\\MSI\\OneDrive\\Bureau\\newYAWDD\\extracted_frames11'\n",
    "\n",
    "# Output folder to store yawning and normal face images\n",
    "output_folder_path = r'C:\\Users\\MSI\\OneDrive\\Bureau\\newYAWDD\\detection'\n",
    "if not os.path.exists(output_folder_path):\n",
    "    os.makedirs(output_folder_path)\n",
    "\n",
    "def mouth_aspect_ratio(mouth):\n",
    "    A = np.linalg.norm(mouth[2] - mouth[9])\n",
    "    B = np.linalg.norm(mouth[4] - mouth[7])\n",
    "    C = np.linalg.norm(mouth[0] - mouth[6])\n",
    "    mar = (A + B) / (2.0 * C)\n",
    "    return mar\n",
    "\n",
    "def detect_yawn(img_path):\n",
    "    image = cv2.imread(img_path)\n",
    "    gray = cv2.cvtColor(image, cv2.COLOR_BGR2GRAY)\n",
    "    rects = detector(gray, 0)\n",
    "    for rect in rects:\n",
    "        shape = predictor(gray, rect)\n",
    "        shape = face_utils.shape_to_np(shape)\n",
    "        mouth = shape[48:68]\n",
    "        mar = mouth_aspect_ratio(mouth)\n",
    "        if mar > 0.6:\n",
    "            return True\n",
    "    return False\n",
    "\n",
    "# Process each subfolder containing frames\n",
    "for subdir, dirs, files in os.walk(root_folder_path):\n",
    "    for img_name in files:\n",
    "        img_path = os.path.join(subdir, img_name)\n",
    "        if img_name.lower().endswith(('.png', '.jpg', '.jpeg')):\n",
    "            if detect_yawn(img_path):\n",
    "                output_image_path = os.path.join(output_folder_path, \"yawning\", img_name)\n",
    "                os.makedirs(os.path.dirname(output_image_path), exist_ok=True)\n",
    "                cv2.imwrite(output_image_path, cv2.imread(img_path))\n",
    "            else:\n",
    "                output_image_path = os.path.join(output_folder_path, \"normal\", img_name)\n",
    "                os.makedirs(os.path.dirname(output_image_path), exist_ok=True)\n",
    "                cv2.imwrite(output_image_path, cv2.imread(img_path))\n",
    "\n",
    "print(\"Detection process is completed.\")\n"
   ]
  },
  {
   "cell_type": "markdown",
   "id": "15d388d0",
   "metadata": {},
   "source": [
    "# Le script parcourt toutes les images (yawn et no yawn), détecte les visages, calcule le rapport d'aspect des yeux (eye aspect ratio), le rapport d'aspect de la bouche (mouth aspect ratio) et (la distance entre les sourcils), puis crée un jeu de données nommé 'output_features2.csv'. Ce jeu de données contient ces caractéristiques avec des étiquettes pour entraîner notre modèle "
   ]
  },
  {
   "cell_type": "code",
   "execution_count": 15,
   "id": "6f3ef19d",
   "metadata": {},
   "outputs": [
    {
     "name": "stdout",
     "output_type": "stream",
     "text": [
      "Le processus de création du fichier CSV est terminé.\n"
     ]
    }
   ],
   "source": [
    "\n",
    "\n",
    "# Chemins vers les dossiers\n",
    "yawning_folder_path = r\"C:\\Users\\MSI\\OneDrive\\Bureau\\newYAWDD\\detection\\yawning\"\n",
    "no_yawning_folder_path = r\"C:\\Users\\MSI\\OneDrive\\Bureau\\newYAWDD\\detection\\normal\"\n",
    "output_csv_path = \"output_features2.csv\"\n",
    "\n",
    "# Initialisation de Dlib's face detector (HOG) et puis création du facial landmark predictor\n",
    "detector = dlib.get_frontal_face_detector()\n",
    "predictor = dlib.shape_predictor(\"shape_predictor_68_face_landmarks.dat\")\n",
    "\n",
    "# Fonction pour calculer l'Eye Aspect Ratio (EAR)\n",
    "def eye_aspect_ratio(eye):\n",
    "    A = np.linalg.norm(eye[1] - eye[5])\n",
    "    B = np.linalg.norm(eye[2] - eye[4])\n",
    "    C = np.linalg.norm(eye[0] - eye[3])\n",
    "    ear = (A + B) / (2 * C)\n",
    "    return ear\n",
    "\n",
    "# Fonction pour calculer le Mouth Aspect Ratio (MAR)\n",
    "def mouth_aspect_ratio(mouth):\n",
    "    A = np.linalg.norm(mouth[13] - mouth[19])  # 49 - 55\n",
    "    B = np.linalg.norm(mouth[14] - mouth[18])  # 50 - 54\n",
    "    C = np.linalg.norm(mouth[12] - mouth[16])  # 48 - 52\n",
    "    mar = (A + B) / (2 * C)\n",
    "    return mar\n",
    "\n",
    "# Fonction pour calculer la distance sourcil-oeil\n",
    "def brow_eye_distance(brow, eye):\n",
    "    brow_middle = np.mean(brow, axis=0)\n",
    "    eye_top = np.min(eye, axis=0)\n",
    "    distance = np.linalg.norm(brow_middle - eye_top)\n",
    "    return distance\n",
    "\n",
    "# Fonction pour traiter les images et écrire les données dans un fichier CSV\n",
    "def process_images(writer, folder_path, yawning_label):\n",
    "    image_files = [f for f in os.listdir(folder_path) if f.lower().endswith(('.png', '.jpg', '.jpeg'))]\n",
    "\n",
    "    for img_name in image_files:\n",
    "        img_path = os.path.join(folder_path, img_name)\n",
    "        image = cv2.imread(img_path)\n",
    "        gray = cv2.cvtColor(image, cv2.COLOR_BGR2GRAY)\n",
    "        rects = detector(gray, 0)\n",
    "\n",
    "        # Utiliser une variable 'face_detected' pour indiquer si un visage est détecté ou non\n",
    "        face_detected = False\n",
    "\n",
    "        for rect in rects:\n",
    "            face_detected = True  # Un visage est détecté\n",
    "            shape = predictor(gray, rect)\n",
    "            shape = face_utils.shape_to_np(shape)\n",
    "\n",
    "            leftEye = shape[42:48]\n",
    "            rightEye = shape[36:42]\n",
    "            leftBrow = shape[22:27]\n",
    "            rightBrow = shape[17:22]\n",
    "            mouth = shape[48:68]\n",
    "\n",
    "            ear_left = eye_aspect_ratio(leftEye)\n",
    "            ear_right = eye_aspect_ratio(rightEye)\n",
    "            ear = (ear_left + ear_right) / 2.0\n",
    "\n",
    "            mar = mouth_aspect_ratio(mouth)\n",
    "            \n",
    "            brow_eye_dist_left = brow_eye_distance(leftBrow, leftEye)\n",
    "            brow_eye_dist_right = brow_eye_distance(rightBrow, rightEye)\n",
    "            brow_eye_distance_avg = (brow_eye_dist_left + brow_eye_dist_right) / 2.0\n",
    "\n",
    "            writer.writerow([img_name, ear, mar, brow_eye_distance_avg, yawning_label])\n",
    "\n",
    "        if not face_detected:\n",
    "            # Si aucun visage n'est détecté, écrire 'N/A' pour les caractéristiques\n",
    "            writer.writerow([img_name, \"N/A\", \"N/A\", \"N/A\", yawning_label])\n",
    "\n",
    "# Écriture des en-têtes et traitement des images\n",
    "with open(output_csv_path, 'w', newline='') as csvfile:\n",
    "    writer = csv.writer(csvfile)\n",
    "    # Changer les noms des colonnes dans le fichier CSV\n",
    "    writer.writerow(['Nom de l\\'image', 'Eye Aspect Ratio ', 'Mouth Aspect Ratio ', 'Distance Sourcil-Oeil', 'Étiquette (Bâillement)'])\n",
    "\n",
    "    # Images avec bâillement\n",
    "    process_images(writer, yawning_folder_path, 1)\n",
    "\n",
    "    # Images sans bâillement\n",
    "    process_images(writer, no_yawning_folder_path, 0)\n",
    "\n",
    "print(\"Le processus de création du fichier CSV est terminé.\")\n"
   ]
  },
  {
   "cell_type": "markdown",
   "id": "dcce29ad",
   "metadata": {},
   "source": [
    "# Construction de modèle et prétraitement des données"
   ]
  },
  {
   "cell_type": "code",
   "execution_count": 34,
   "id": "216e879f",
   "metadata": {},
   "outputs": [
    {
     "data": {
      "text/html": [
       "<div>\n",
       "<style scoped>\n",
       "    .dataframe tbody tr th:only-of-type {\n",
       "        vertical-align: middle;\n",
       "    }\n",
       "\n",
       "    .dataframe tbody tr th {\n",
       "        vertical-align: top;\n",
       "    }\n",
       "\n",
       "    .dataframe thead th {\n",
       "        text-align: right;\n",
       "    }\n",
       "</style>\n",
       "<table border=\"1\" class=\"dataframe\">\n",
       "  <thead>\n",
       "    <tr style=\"text-align: right;\">\n",
       "      <th></th>\n",
       "      <th>Nom de l'image</th>\n",
       "      <th>Eye Aspect Ratio</th>\n",
       "      <th>Mouth Aspect Ratio</th>\n",
       "      <th>Distance Sourcil-Oeil</th>\n",
       "      <th>Étiquette (Bâillement)</th>\n",
       "    </tr>\n",
       "  </thead>\n",
       "  <tbody>\n",
       "    <tr>\n",
       "      <th>0</th>\n",
       "      <td>frame_100.jpg</td>\n",
       "      <td>0.359268</td>\n",
       "      <td>0.353553</td>\n",
       "      <td>24.287603</td>\n",
       "      <td>1</td>\n",
       "    </tr>\n",
       "    <tr>\n",
       "      <th>1</th>\n",
       "      <td>frame_101.jpg</td>\n",
       "      <td>0.354358</td>\n",
       "      <td>0.381383</td>\n",
       "      <td>23.658760</td>\n",
       "      <td>1</td>\n",
       "    </tr>\n",
       "    <tr>\n",
       "      <th>2</th>\n",
       "      <td>frame_102.jpg</td>\n",
       "      <td>0.358935</td>\n",
       "      <td>0.379896</td>\n",
       "      <td>23.582188</td>\n",
       "      <td>1</td>\n",
       "    </tr>\n",
       "    <tr>\n",
       "      <th>3</th>\n",
       "      <td>frame_103.jpg</td>\n",
       "      <td>0.344837</td>\n",
       "      <td>0.432921</td>\n",
       "      <td>24.140373</td>\n",
       "      <td>1</td>\n",
       "    </tr>\n",
       "    <tr>\n",
       "      <th>4</th>\n",
       "      <td>frame_104.jpg</td>\n",
       "      <td>0.366128</td>\n",
       "      <td>0.401998</td>\n",
       "      <td>24.130492</td>\n",
       "      <td>1</td>\n",
       "    </tr>\n",
       "  </tbody>\n",
       "</table>\n",
       "</div>"
      ],
      "text/plain": [
       "  Nom de l'image  Eye Aspect Ratio   Mouth Aspect Ratio   \\\n",
       "0  frame_100.jpg           0.359268             0.353553   \n",
       "1  frame_101.jpg           0.354358             0.381383   \n",
       "2  frame_102.jpg           0.358935             0.379896   \n",
       "3  frame_103.jpg           0.344837             0.432921   \n",
       "4  frame_104.jpg           0.366128             0.401998   \n",
       "\n",
       "   Distance Sourcil-Oeil  Étiquette (Bâillement)  \n",
       "0              24.287603                       1  \n",
       "1              23.658760                       1  \n",
       "2              23.582188                       1  \n",
       "3              24.140373                       1  \n",
       "4              24.130492                       1  "
      ]
     },
     "execution_count": 34,
     "metadata": {},
     "output_type": "execute_result"
    }
   ],
   "source": [
    "\n",
    "import pandas as pd\n",
    "\n",
    "# Spécifiez le nouveau chemin complet du fichier CSV et l'encodage approprié\n",
    "file_path = 'C:/Users/MSI/OneDrive/Bureau/newYAWDD/output_features2.csv'\n",
    "encoding = 'ISO-8859-1'  \n",
    "\n",
    "# Lecture du fichier CSV dans un DataFrame avec l'encodage spécifié\n",
    "df = pd.read_csv(file_path, encoding=encoding)\n",
    "\n",
    "# Afficher les  5 premières lignes du DataFrame pour vérifier s'il a été correctement chargé\n",
    "df.head()\n",
    "\n",
    "\n"
   ]
  },
  {
   "cell_type": "code",
   "execution_count": 35,
   "id": "af94f463",
   "metadata": {},
   "outputs": [
    {
     "name": "stdout",
     "output_type": "stream",
     "text": [
      "<class 'pandas.core.frame.DataFrame'>\n",
      "RangeIndex: 959 entries, 0 to 958\n",
      "Data columns (total 5 columns):\n",
      " #   Column                  Non-Null Count  Dtype  \n",
      "---  ------                  --------------  -----  \n",
      " 0   Nom de l'image          959 non-null    object \n",
      " 1   Eye Aspect Ratio        950 non-null    float64\n",
      " 2   Mouth Aspect Ratio      950 non-null    float64\n",
      " 3   Distance Sourcil-Oeil   950 non-null    float64\n",
      " 4   Étiquette (Bâillement)  959 non-null    int64  \n",
      "dtypes: float64(3), int64(1), object(1)\n",
      "memory usage: 37.6+ KB\n"
     ]
    }
   ],
   "source": [
    "df.info()"
   ]
  },
  {
   "cell_type": "markdown",
   "id": "42c77efb",
   "metadata": {},
   "source": [
    "# effectuer un sous-échantillonnage (undersampling) des données de la classe majoritaire (label 0) afin de les équilibrer avec la classe minoritaire (label 1) et mélanger alétoirement les lignes \n"
   ]
  },
  {
   "cell_type": "code",
   "execution_count": 36,
   "id": "d96215a8",
   "metadata": {},
   "outputs": [
    {
     "name": "stdout",
     "output_type": "stream",
     "text": [
      "0    738\n",
      "1    221\n",
      "Name: Étiquette (Bâillement), dtype: int64\n",
      "1    221\n",
      "0    221\n",
      "Name: Étiquette (Bâillement), dtype: int64\n"
     ]
    }
   ],
   "source": [
    "\n",
    "# Display the count of values for each label\n",
    "print(df['Étiquette (Bâillement)'].value_counts())\n",
    "\n",
    "# Separate data based on labels\n",
    "label_0 = df[df['Étiquette (Bâillement)'] == 0]\n",
    "label_1 = df[df['Étiquette (Bâillement)'] == 1]\n",
    "\n",
    "# Undersample label 0 to match the number of samples in label 1\n",
    "sampled_label_0 = label_0.sample(n=len(label_1), random_state=42)\n",
    "\n",
    "# Concatenate the undersampled label 0 and label 1 data\n",
    "df_balanced = pd.concat([sampled_label_0, label_1])\n",
    "\n",
    "# Shuffle the rows to mix the data\n",
    "df_balanced = df_balanced.sample(frac=1, random_state=42).reset_index(drop=True)\n",
    "\n",
    "# Display the new count of values for each label to verify balance\n",
    "print(df_balanced['Étiquette (Bâillement)'].value_counts())\n",
    "\n",
    "\n",
    "# Mélanger aléatoirement les lignes du DataFrame\n",
    "# new_df = df_balanced.sample(frac=1, random_state=42).reset_index(drop=True)\n"
   ]
  },
  {
   "cell_type": "code",
   "execution_count": 37,
   "id": "538d07b1",
   "metadata": {},
   "outputs": [
    {
     "name": "stdout",
     "output_type": "stream",
     "text": [
      "<class 'pandas.core.frame.DataFrame'>\n",
      "RangeIndex: 442 entries, 0 to 441\n",
      "Data columns (total 5 columns):\n",
      " #   Column                  Non-Null Count  Dtype  \n",
      "---  ------                  --------------  -----  \n",
      " 0   Nom de l'image          442 non-null    object \n",
      " 1   Eye Aspect Ratio        439 non-null    float64\n",
      " 2   Mouth Aspect Ratio      439 non-null    float64\n",
      " 3   Distance Sourcil-Oeil   439 non-null    float64\n",
      " 4   Étiquette (Bâillement)  442 non-null    int64  \n",
      "dtypes: float64(3), int64(1), object(1)\n",
      "memory usage: 17.4+ KB\n"
     ]
    }
   ],
   "source": [
    "new_df.info()"
   ]
  },
  {
   "cell_type": "markdown",
   "id": "f76f28da",
   "metadata": {},
   "source": [
    "# trouver les meilleurs parameteres a laide de la méthode gridsearch "
   ]
  },
  {
   "cell_type": "code",
   "execution_count": 51,
   "id": "8e2c3209",
   "metadata": {},
   "outputs": [
    {
     "name": "stdout",
     "output_type": "stream",
     "text": [
      "Meilleurs paramètres : {'max_depth': 10, 'min_samples_split': 2, 'n_estimators': 30}\n"
     ]
    }
   ],
   "source": [
    "from sklearn.model_selection import GridSearchCV\n",
    "from sklearn.ensemble import RandomForestClassifier\n",
    "from sklearn.model_selection import train_test_split\n",
    "from sklearn.metrics import accuracy_score, classification_report\n",
    "\n",
    "# Définition des paramètres à tester\n",
    "param_grid = {\n",
    "    'n_estimators': [20,30,50, 100],  # Nombre d'arbres dans la forêt\n",
    "    'max_depth': [None, 5, 10, 20],  # Profondeur maximale de chaque arbre\n",
    "    'min_samples_split': [2, 5, 10],  # Nombre minimum d'échantillons requis pour diviser un nœud\n",
    "}\n",
    "\n",
    "# Création du modèle RandomForestClassifier\n",
    "rf = RandomForestClassifier()\n",
    "\n",
    "# Recherche par grille pour trouver les meilleurs paramètres\n",
    "grid_search = GridSearchCV(estimator=rf, param_grid=param_grid, scoring='accuracy')\n",
    "grid_search.fit(X_train, y_train)\n",
    "\n",
    "# Affichage des meilleurs paramètres trouvés\n",
    "best_params = grid_search.best_params_\n",
    "print(\"Meilleurs paramètres :\", best_params)\n"
   ]
  },
  {
   "cell_type": "markdown",
   "id": "bf026a68",
   "metadata": {},
   "source": [
    "# split data - fit le modele - predections - evaluation"
   ]
  },
  {
   "cell_type": "code",
   "execution_count": 52,
   "id": "67cdbc82",
   "metadata": {},
   "outputs": [
    {
     "name": "stdout",
     "output_type": "stream",
     "text": [
      "Précision du modèle : 91.01%\n",
      "\n"
     ]
    }
   ],
   "source": [
    "\n",
    "\n",
    "# Séparation des données en X et y\n",
    "X = new_df.drop(['Étiquette (Bâillement)', 'Nom de l\\'image'], axis=1)\n",
    "y = new_df['Étiquette (Bâillement)']\n",
    "\n",
    "# Remplissage des valeurs manquantes (optionnel)\n",
    "X.fillna(X.mean(), inplace=True)\n",
    "\n",
    "# Split des données en ensembles d'entraînement et de test\n",
    "X_train, X_test, y_train, y_test = train_test_split(X, y, test_size=0.2, random_state=42)\n",
    "\n",
    "# Création du modèle Random Forest avec des paramètres spécifiés\n",
    "model = RandomForestClassifier(max_depth=10, min_samples_split=2, n_estimators=30)\n",
    "\n",
    "# Entraînement du modèle\n",
    "model.fit(X_train, y_train)\n",
    "\n",
    "# Prédictions avec l'ensemble de test\n",
    "predictions = model.predict(X_test)\n",
    "\n",
    "# Évaluation du modèle\n",
    "accuracy = accuracy_score(y_test, predictions)\n",
    "print(f\"Précision du modèle : {accuracy * 100:.2f}%\\n\")\n",
    "\n"
   ]
  },
  {
   "cell_type": "markdown",
   "id": "f7432cf5",
   "metadata": {},
   "source": [
    "# Création d'un barplot pour représenter les valeurs de TP (Vrais Positifs), TN (Vrais Négatifs), FP (Faux Positifs) et FN (Faux Négatifs)"
   ]
  },
  {
   "cell_type": "code",
   "execution_count": 53,
   "id": "36a47bc6",
   "metadata": {},
   "outputs": [
    {
     "data": {
      "image/png": "[encoded data removed]",
      "text/plain": [
       "<Figure size 800x600 with 1 Axes>"
      ]
     },
     "metadata": {},
     "output_type": "display_data"
    }
   ],
   "source": [
    "# Extraction des valeurs TP, TN, FP, FN de la matrice de confusion\n",
    "tp = conf_matrix[1, 1]\n",
    "tn = conf_matrix[0, 0]\n",
    "fp = conf_matrix[0, 1]\n",
    "fn = conf_matrix[1, 0]\n",
    "\n",
    "\n",
    "values = [tp, tn, fp, fn]\n",
    "labels = ['True Positives', 'True Negatives', 'False Positives', 'False Negatives']\n",
    "\n",
    "plt.figure(figsize=(8, 6))\n",
    "plt.bar(labels, values, color=['green', 'blue', 'red', 'orange'])\n",
    "plt.xlabel('Valeurs')\n",
    "plt.ylabel('Nombre')\n",
    "plt.title('True Positives, True Negatives, False Positives, False Negatives')\n",
    "plt.show()\n",
    "\n"
   ]
  },
  {
   "cell_type": "code",
   "execution_count": null,
   "id": "54f83c43",
   "metadata": {},
   "outputs": [],
   "source": []
  }
 ],
 "metadata": {
  "kernelspec": {
   "display_name": "Python 3 (ipykernel)",
   "language": "python",
   "name": "python3"
  },
  "language_info": {
   "codemirror_mode": {
    "name": "ipython",
    "version": 3
   },
   "file_extension": ".py",
   "mimetype": "text/x-python",
   "name": "python",
   "nbconvert_exporter": "python",
   "pygments_lexer": "ipython3",
   "version": "3.10.9"
  }
 },
 "nbformat": 4,
 "nbformat_minor": 5
}
